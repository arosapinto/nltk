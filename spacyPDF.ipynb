{
 "cells": [
  {
   "cell_type": "code",
   "execution_count": 17,
   "metadata": {},
   "outputs": [],
   "source": [
    "#!pip3 install pyresparser\n",
    "#import os\n",
    "import warnings\n",
    "warnings.filterwarnings('ignore')"
   ]
  },
  {
   "cell_type": "code",
   "execution_count": 18,
   "metadata": {},
   "outputs": [],
   "source": [
    "import en_core_web_sm\n",
    "nlp = en_core_web_sm.load()"
   ]
  },
  {
   "cell_type": "code",
   "execution_count": 19,
   "metadata": {},
   "outputs": [],
   "source": [
    "import PyPDF2\n",
    "import os"
   ]
  },
  {
   "cell_type": "code",
   "execution_count": 20,
   "metadata": {},
   "outputs": [],
   "source": [
    "from pyresparser import ResumeParser"
   ]
  },
  {
   "cell_type": "code",
   "execution_count": 22,
   "metadata": {},
   "outputs": [],
   "source": [
    "directory = 'C:\\\\Users\\\\APinto\\\\OneDrive\\\\Documentos\\\\pdfs cv\\\\'\n",
    "file = 'Ana Rosa Almeida Pinto_EN.pdf'"
   ]
  },
  {
   "cell_type": "code",
   "execution_count": 23,
   "metadata": {},
   "outputs": [
    {
     "ename": "OSError",
     "evalue": "[E053] Could not read config.cfg from C:\\Users\\APinto\\anaconda3\\envs\\projeto_apspacy\\lib\\site-packages\\pyresparser\\config.cfg",
     "output_type": "error",
     "traceback": [
      "\u001b[1;31m---------------------------------------------------------------------------\u001b[0m",
      "\u001b[1;31mOSError\u001b[0m                                   Traceback (most recent call last)",
      "\u001b[1;32mc:\\Test folder\\nltk\\spacyPDF.ipynb Cell 6'\u001b[0m in \u001b[0;36m<cell line: 1>\u001b[1;34m()\u001b[0m\n\u001b[1;32m----> <a href='vscode-notebook-cell:/c%3A/Test%20folder/nltk/spacyPDF.ipynb#ch0000009?line=0'>1</a>\u001b[0m data \u001b[39m=\u001b[39m ResumeParser(directory\u001b[39m+\u001b[39;49mfile)\u001b[39m.\u001b[39mget_extracted_data()\n",
      "File \u001b[1;32m~\\anaconda3\\envs\\projeto_apspacy\\lib\\site-packages\\pyresparser\\resume_parser.py:21\u001b[0m, in \u001b[0;36mResumeParser.__init__\u001b[1;34m(self, resume, skills_file, custom_regex)\u001b[0m\n\u001b[0;32m     <a href='file:///c%3A/Users/APinto/anaconda3/envs/projeto_apspacy/lib/site-packages/pyresparser/resume_parser.py?line=13'>14</a>\u001b[0m \u001b[39mdef\u001b[39;00m \u001b[39m__init__\u001b[39m(\n\u001b[0;32m     <a href='file:///c%3A/Users/APinto/anaconda3/envs/projeto_apspacy/lib/site-packages/pyresparser/resume_parser.py?line=14'>15</a>\u001b[0m     \u001b[39mself\u001b[39m,\n\u001b[0;32m     <a href='file:///c%3A/Users/APinto/anaconda3/envs/projeto_apspacy/lib/site-packages/pyresparser/resume_parser.py?line=15'>16</a>\u001b[0m     resume,\n\u001b[0;32m     <a href='file:///c%3A/Users/APinto/anaconda3/envs/projeto_apspacy/lib/site-packages/pyresparser/resume_parser.py?line=16'>17</a>\u001b[0m     skills_file\u001b[39m=\u001b[39m\u001b[39mNone\u001b[39;00m,\n\u001b[0;32m     <a href='file:///c%3A/Users/APinto/anaconda3/envs/projeto_apspacy/lib/site-packages/pyresparser/resume_parser.py?line=17'>18</a>\u001b[0m     custom_regex\u001b[39m=\u001b[39m\u001b[39mNone\u001b[39;00m\n\u001b[0;32m     <a href='file:///c%3A/Users/APinto/anaconda3/envs/projeto_apspacy/lib/site-packages/pyresparser/resume_parser.py?line=18'>19</a>\u001b[0m ):\n\u001b[0;32m     <a href='file:///c%3A/Users/APinto/anaconda3/envs/projeto_apspacy/lib/site-packages/pyresparser/resume_parser.py?line=19'>20</a>\u001b[0m     nlp \u001b[39m=\u001b[39m spacy\u001b[39m.\u001b[39mload(\u001b[39m'\u001b[39m\u001b[39men_core_web_sm\u001b[39m\u001b[39m'\u001b[39m)\n\u001b[1;32m---> <a href='file:///c%3A/Users/APinto/anaconda3/envs/projeto_apspacy/lib/site-packages/pyresparser/resume_parser.py?line=20'>21</a>\u001b[0m     custom_nlp \u001b[39m=\u001b[39m spacy\u001b[39m.\u001b[39;49mload(os\u001b[39m.\u001b[39;49mpath\u001b[39m.\u001b[39;49mdirname(os\u001b[39m.\u001b[39;49mpath\u001b[39m.\u001b[39;49mabspath(\u001b[39m__file__\u001b[39;49m)))\n\u001b[0;32m     <a href='file:///c%3A/Users/APinto/anaconda3/envs/projeto_apspacy/lib/site-packages/pyresparser/resume_parser.py?line=21'>22</a>\u001b[0m     \u001b[39mself\u001b[39m\u001b[39m.\u001b[39m__skills_file \u001b[39m=\u001b[39m skills_file\n\u001b[0;32m     <a href='file:///c%3A/Users/APinto/anaconda3/envs/projeto_apspacy/lib/site-packages/pyresparser/resume_parser.py?line=22'>23</a>\u001b[0m     \u001b[39mself\u001b[39m\u001b[39m.\u001b[39m__custom_regex \u001b[39m=\u001b[39m custom_regex\n",
      "File \u001b[1;32m~\\anaconda3\\envs\\projeto_apspacy\\lib\\site-packages\\spacy\\__init__.py:51\u001b[0m, in \u001b[0;36mload\u001b[1;34m(name, vocab, disable, exclude, config)\u001b[0m\n\u001b[0;32m     <a href='file:///c%3A/Users/APinto/anaconda3/envs/projeto_apspacy/lib/site-packages/spacy/__init__.py?line=29'>30</a>\u001b[0m \u001b[39mdef\u001b[39;00m \u001b[39mload\u001b[39m(\n\u001b[0;32m     <a href='file:///c%3A/Users/APinto/anaconda3/envs/projeto_apspacy/lib/site-packages/spacy/__init__.py?line=30'>31</a>\u001b[0m     name: Union[\u001b[39mstr\u001b[39m, Path],\n\u001b[0;32m     <a href='file:///c%3A/Users/APinto/anaconda3/envs/projeto_apspacy/lib/site-packages/spacy/__init__.py?line=31'>32</a>\u001b[0m     \u001b[39m*\u001b[39m,\n\u001b[1;32m   (...)\u001b[0m\n\u001b[0;32m     <a href='file:///c%3A/Users/APinto/anaconda3/envs/projeto_apspacy/lib/site-packages/spacy/__init__.py?line=35'>36</a>\u001b[0m     config: Union[Dict[\u001b[39mstr\u001b[39m, Any], Config] \u001b[39m=\u001b[39m util\u001b[39m.\u001b[39mSimpleFrozenDict(),\n\u001b[0;32m     <a href='file:///c%3A/Users/APinto/anaconda3/envs/projeto_apspacy/lib/site-packages/spacy/__init__.py?line=36'>37</a>\u001b[0m ) \u001b[39m-\u001b[39m\u001b[39m>\u001b[39m Language:\n\u001b[0;32m     <a href='file:///c%3A/Users/APinto/anaconda3/envs/projeto_apspacy/lib/site-packages/spacy/__init__.py?line=37'>38</a>\u001b[0m     \u001b[39m\"\"\"Load a spaCy model from an installed package or a local path.\u001b[39;00m\n\u001b[0;32m     <a href='file:///c%3A/Users/APinto/anaconda3/envs/projeto_apspacy/lib/site-packages/spacy/__init__.py?line=38'>39</a>\u001b[0m \n\u001b[0;32m     <a href='file:///c%3A/Users/APinto/anaconda3/envs/projeto_apspacy/lib/site-packages/spacy/__init__.py?line=39'>40</a>\u001b[0m \u001b[39m    name (str): Package name or model path.\u001b[39;00m\n\u001b[1;32m   (...)\u001b[0m\n\u001b[0;32m     <a href='file:///c%3A/Users/APinto/anaconda3/envs/projeto_apspacy/lib/site-packages/spacy/__init__.py?line=48'>49</a>\u001b[0m \u001b[39m    RETURNS (Language): The loaded nlp object.\u001b[39;00m\n\u001b[0;32m     <a href='file:///c%3A/Users/APinto/anaconda3/envs/projeto_apspacy/lib/site-packages/spacy/__init__.py?line=49'>50</a>\u001b[0m \u001b[39m    \"\"\"\u001b[39;00m\n\u001b[1;32m---> <a href='file:///c%3A/Users/APinto/anaconda3/envs/projeto_apspacy/lib/site-packages/spacy/__init__.py?line=50'>51</a>\u001b[0m     \u001b[39mreturn\u001b[39;00m util\u001b[39m.\u001b[39;49mload_model(\n\u001b[0;32m     <a href='file:///c%3A/Users/APinto/anaconda3/envs/projeto_apspacy/lib/site-packages/spacy/__init__.py?line=51'>52</a>\u001b[0m         name, vocab\u001b[39m=\u001b[39;49mvocab, disable\u001b[39m=\u001b[39;49mdisable, exclude\u001b[39m=\u001b[39;49mexclude, config\u001b[39m=\u001b[39;49mconfig\n\u001b[0;32m     <a href='file:///c%3A/Users/APinto/anaconda3/envs/projeto_apspacy/lib/site-packages/spacy/__init__.py?line=52'>53</a>\u001b[0m     )\n",
      "File \u001b[1;32m~\\anaconda3\\envs\\projeto_apspacy\\lib\\site-packages\\spacy\\util.py:422\u001b[0m, in \u001b[0;36mload_model\u001b[1;34m(name, vocab, disable, exclude, config)\u001b[0m\n\u001b[0;32m    <a href='file:///c%3A/Users/APinto/anaconda3/envs/projeto_apspacy/lib/site-packages/spacy/util.py?line=419'>420</a>\u001b[0m         \u001b[39mreturn\u001b[39;00m load_model_from_package(name, \u001b[39m*\u001b[39m\u001b[39m*\u001b[39mkwargs)  \u001b[39m# type: ignore[arg-type]\u001b[39;00m\n\u001b[0;32m    <a href='file:///c%3A/Users/APinto/anaconda3/envs/projeto_apspacy/lib/site-packages/spacy/util.py?line=420'>421</a>\u001b[0m     \u001b[39mif\u001b[39;00m Path(name)\u001b[39m.\u001b[39mexists():  \u001b[39m# path to model data directory\u001b[39;00m\n\u001b[1;32m--> <a href='file:///c%3A/Users/APinto/anaconda3/envs/projeto_apspacy/lib/site-packages/spacy/util.py?line=421'>422</a>\u001b[0m         \u001b[39mreturn\u001b[39;00m load_model_from_path(Path(name), \u001b[39m*\u001b[39;49m\u001b[39m*\u001b[39;49mkwargs)  \u001b[39m# type: ignore[arg-type]\u001b[39;00m\n\u001b[0;32m    <a href='file:///c%3A/Users/APinto/anaconda3/envs/projeto_apspacy/lib/site-packages/spacy/util.py?line=422'>423</a>\u001b[0m \u001b[39melif\u001b[39;00m \u001b[39mhasattr\u001b[39m(name, \u001b[39m\"\u001b[39m\u001b[39mexists\u001b[39m\u001b[39m\"\u001b[39m):  \u001b[39m# Path or Path-like to model data\u001b[39;00m\n\u001b[0;32m    <a href='file:///c%3A/Users/APinto/anaconda3/envs/projeto_apspacy/lib/site-packages/spacy/util.py?line=423'>424</a>\u001b[0m     \u001b[39mreturn\u001b[39;00m load_model_from_path(name, \u001b[39m*\u001b[39m\u001b[39m*\u001b[39mkwargs)  \u001b[39m# type: ignore[arg-type]\u001b[39;00m\n",
      "File \u001b[1;32m~\\anaconda3\\envs\\projeto_apspacy\\lib\\site-packages\\spacy\\util.py:487\u001b[0m, in \u001b[0;36mload_model_from_path\u001b[1;34m(model_path, meta, vocab, disable, exclude, config)\u001b[0m\n\u001b[0;32m    <a href='file:///c%3A/Users/APinto/anaconda3/envs/projeto_apspacy/lib/site-packages/spacy/util.py?line=484'>485</a>\u001b[0m config_path \u001b[39m=\u001b[39m model_path \u001b[39m/\u001b[39m \u001b[39m\"\u001b[39m\u001b[39mconfig.cfg\u001b[39m\u001b[39m\"\u001b[39m\n\u001b[0;32m    <a href='file:///c%3A/Users/APinto/anaconda3/envs/projeto_apspacy/lib/site-packages/spacy/util.py?line=485'>486</a>\u001b[0m overrides \u001b[39m=\u001b[39m dict_to_dot(config)\n\u001b[1;32m--> <a href='file:///c%3A/Users/APinto/anaconda3/envs/projeto_apspacy/lib/site-packages/spacy/util.py?line=486'>487</a>\u001b[0m config \u001b[39m=\u001b[39m load_config(config_path, overrides\u001b[39m=\u001b[39;49moverrides)\n\u001b[0;32m    <a href='file:///c%3A/Users/APinto/anaconda3/envs/projeto_apspacy/lib/site-packages/spacy/util.py?line=487'>488</a>\u001b[0m nlp \u001b[39m=\u001b[39m load_model_from_config(config, vocab\u001b[39m=\u001b[39mvocab, disable\u001b[39m=\u001b[39mdisable, exclude\u001b[39m=\u001b[39mexclude)\n\u001b[0;32m    <a href='file:///c%3A/Users/APinto/anaconda3/envs/projeto_apspacy/lib/site-packages/spacy/util.py?line=488'>489</a>\u001b[0m \u001b[39mreturn\u001b[39;00m nlp\u001b[39m.\u001b[39mfrom_disk(model_path, exclude\u001b[39m=\u001b[39mexclude, overrides\u001b[39m=\u001b[39moverrides)\n",
      "File \u001b[1;32m~\\anaconda3\\envs\\projeto_apspacy\\lib\\site-packages\\spacy\\util.py:646\u001b[0m, in \u001b[0;36mload_config\u001b[1;34m(path, overrides, interpolate)\u001b[0m\n\u001b[0;32m    <a href='file:///c%3A/Users/APinto/anaconda3/envs/projeto_apspacy/lib/site-packages/spacy/util.py?line=643'>644</a>\u001b[0m \u001b[39melse\u001b[39;00m:\n\u001b[0;32m    <a href='file:///c%3A/Users/APinto/anaconda3/envs/projeto_apspacy/lib/site-packages/spacy/util.py?line=644'>645</a>\u001b[0m     \u001b[39mif\u001b[39;00m \u001b[39mnot\u001b[39;00m config_path \u001b[39mor\u001b[39;00m \u001b[39mnot\u001b[39;00m config_path\u001b[39m.\u001b[39mexists() \u001b[39mor\u001b[39;00m \u001b[39mnot\u001b[39;00m config_path\u001b[39m.\u001b[39mis_file():\n\u001b[1;32m--> <a href='file:///c%3A/Users/APinto/anaconda3/envs/projeto_apspacy/lib/site-packages/spacy/util.py?line=645'>646</a>\u001b[0m         \u001b[39mraise\u001b[39;00m \u001b[39mIOError\u001b[39;00m(Errors\u001b[39m.\u001b[39mE053\u001b[39m.\u001b[39mformat(path\u001b[39m=\u001b[39mconfig_path, name\u001b[39m=\u001b[39m\u001b[39m\"\u001b[39m\u001b[39mconfig.cfg\u001b[39m\u001b[39m\"\u001b[39m))\n\u001b[0;32m    <a href='file:///c%3A/Users/APinto/anaconda3/envs/projeto_apspacy/lib/site-packages/spacy/util.py?line=646'>647</a>\u001b[0m     \u001b[39mreturn\u001b[39;00m config\u001b[39m.\u001b[39mfrom_disk(\n\u001b[0;32m    <a href='file:///c%3A/Users/APinto/anaconda3/envs/projeto_apspacy/lib/site-packages/spacy/util.py?line=647'>648</a>\u001b[0m         config_path, overrides\u001b[39m=\u001b[39moverrides, interpolate\u001b[39m=\u001b[39minterpolate\n\u001b[0;32m    <a href='file:///c%3A/Users/APinto/anaconda3/envs/projeto_apspacy/lib/site-packages/spacy/util.py?line=648'>649</a>\u001b[0m     )\n",
      "\u001b[1;31mOSError\u001b[0m: [E053] Could not read config.cfg from C:\\Users\\APinto\\anaconda3\\envs\\projeto_apspacy\\lib\\site-packages\\pyresparser\\config.cfg"
     ]
    }
   ],
   "source": [
    "data = ResumeParser(directory+file).get_extracted_data()"
   ]
  },
  {
   "cell_type": "code",
   "execution_count": 13,
   "metadata": {},
   "outputs": [
    {
     "name": "stderr",
     "output_type": "stream",
     "text": [
      "Traceback (most recent call last):\n",
      "  File \"C:\\Users\\APinto\\anaconda3\\envs\\projeto_apspacy\\lib\\runpy.py\", line 185, in _run_module_as_main\n",
      "    mod_name, mod_spec, code = _get_module_details(mod_name, _Error)\n",
      "  File \"C:\\Users\\APinto\\anaconda3\\envs\\projeto_apspacy\\lib\\runpy.py\", line 144, in _get_module_details\n",
      "    return _get_module_details(pkg_main_name, error)\n",
      "  File \"C:\\Users\\APinto\\anaconda3\\envs\\projeto_apspacy\\lib\\runpy.py\", line 111, in _get_module_details\n",
      "    __import__(pkg_name)\n",
      "  File \"C:\\Users\\APinto\\anaconda3\\envs\\projeto_apspacy\\lib\\site-packages\\spacy\\__init__.py\", line 15, in <module>\n",
      "    from .cli.info import info  # noqa: F401\n",
      "  File \"C:\\Users\\APinto\\anaconda3\\envs\\projeto_apspacy\\lib\\site-packages\\spacy\\cli\\__init__.py\", line 20, in <module>\n",
      "    from .init_config import init_config, fill_config  # noqa: F401\n",
      "  File \"C:\\Users\\APinto\\anaconda3\\envs\\projeto_apspacy\\lib\\site-packages\\spacy\\cli\\init_config.py\", line 19, in <module>\n",
      "    RECOMMENDATIONS = srsly.read_yaml(ROOT / \"quickstart_training_recommendations.yml\")\n",
      "AttributeError: module 'srsly' has no attribute 'read_yaml'\n"
     ]
    }
   ],
   "source": [
    "#!pip install nltk\n",
    "!pip install spacy==2.2.4\n",
    "#!pip install https://github.com/explosion/spacy-models/releases/download/en_core_web_sm-2.3.1/en_core_web_sm-2.3.1.tar.gz\n",
    "#!pip install spacy\n",
    "#import pyresparser\n",
    "\n",
    "# spaCy\n",
    "!python -m spacy download en_core_web_sm-2.3.1\n",
    "#import spacy\n",
    "# nltk\n",
    "#!python -m nltk.downloader words\n",
    "#import nltk\n",
    "#from spacy.lang.en.examples import sentences"
   ]
  },
  {
   "cell_type": "code",
   "execution_count": 25,
   "metadata": {},
   "outputs": [],
   "source": [
    "#!python -m spacy validate\n",
    "!pip uninstall en-core-web-sm\n",
    "#!python -m spacy init fill-config config-v3.1.cfg config-v3.2.cfg"
   ]
  },
  {
   "cell_type": "code",
   "execution_count": 14,
   "metadata": {},
   "outputs": [],
   "source": [
    "#!python -m spacy validate\n",
    "nlp = spacy.load(\"en_core_web_sm\")"
   ]
  },
  {
   "cell_type": "code",
   "execution_count": 15,
   "metadata": {},
   "outputs": [
    {
     "name": "stderr",
     "output_type": "stream",
     "text": [
      "C:\\Users\\APinto\\anaconda3\\envs\\projeto_apspacy\\lib\\site-packages\\spacy\\util.py:841: UserWarning: [W094] Model 'en_training' (0.0.0) specifies an under-constrained spaCy version requirement: >=2.1.4. This can lead to compatibility problems with older versions, or as new spaCy versions are released, because the model may say it's compatible when it's not. Consider changing the \"spacy_version\" in your meta.json to a version range, with a lower and upper pin. For example: >=3.2.0,<3.3.0\n",
      "  warnings.warn(warn_msg)\n"
     ]
    },
    {
     "ename": "OSError",
     "evalue": "[E053] Could not read config.cfg from C:\\Users\\APinto\\anaconda3\\envs\\projeto_apspacy\\lib\\site-packages\\pyresparser\\config.cfg",
     "output_type": "error",
     "traceback": [
      "\u001b[1;31m---------------------------------------------------------------------------\u001b[0m",
      "\u001b[1;31mOSError\u001b[0m                                   Traceback (most recent call last)",
      "\u001b[1;32mc:\\Test folder\\nltk\\spacyPDF.ipynb Cell 5'\u001b[0m in \u001b[0;36m<cell line: 2>\u001b[1;34m()\u001b[0m\n\u001b[0;32m      <a href='vscode-notebook-cell:/c%3A/Test%20folder/nltk/spacyPDF.ipynb#ch0000003?line=0'>1</a>\u001b[0m \u001b[39mfrom\u001b[39;00m \u001b[39mpyresparser\u001b[39;00m \u001b[39mimport\u001b[39;00m ResumeParser\n\u001b[1;32m----> <a href='vscode-notebook-cell:/c%3A/Test%20folder/nltk/spacyPDF.ipynb#ch0000003?line=1'>2</a>\u001b[0m data \u001b[39m=\u001b[39m ResumeParser(\u001b[39m'\u001b[39;49m\u001b[39mC:\u001b[39;49m\u001b[39m\\\\\u001b[39;49;00m\u001b[39mUsers\u001b[39;49m\u001b[39m\\\\\u001b[39;49;00m\u001b[39mAPinto\u001b[39;49m\u001b[39m\\\\\u001b[39;49;00m\u001b[39mOneDrive\u001b[39;49m\u001b[39m\\\\\u001b[39;49;00m\u001b[39mDocumentos\u001b[39;49m\u001b[39m\\\\\u001b[39;49;00m\u001b[39mpdfs cv\u001b[39;49m\u001b[39m\\\\\u001b[39;49;00m\u001b[39mAna Rosa Almeida Pinto_EN.pdf\u001b[39;49m\u001b[39m'\u001b[39;49m)\u001b[39m.\u001b[39mget_extracted_data()\n",
      "File \u001b[1;32m~\\anaconda3\\envs\\projeto_apspacy\\lib\\site-packages\\pyresparser\\resume_parser.py:21\u001b[0m, in \u001b[0;36mResumeParser.__init__\u001b[1;34m(self, resume, skills_file, custom_regex)\u001b[0m\n\u001b[0;32m     <a href='file:///c%3A/Users/APinto/anaconda3/envs/projeto_apspacy/lib/site-packages/pyresparser/resume_parser.py?line=13'>14</a>\u001b[0m \u001b[39mdef\u001b[39;00m \u001b[39m__init__\u001b[39m(\n\u001b[0;32m     <a href='file:///c%3A/Users/APinto/anaconda3/envs/projeto_apspacy/lib/site-packages/pyresparser/resume_parser.py?line=14'>15</a>\u001b[0m     \u001b[39mself\u001b[39m,\n\u001b[0;32m     <a href='file:///c%3A/Users/APinto/anaconda3/envs/projeto_apspacy/lib/site-packages/pyresparser/resume_parser.py?line=15'>16</a>\u001b[0m     resume,\n\u001b[0;32m     <a href='file:///c%3A/Users/APinto/anaconda3/envs/projeto_apspacy/lib/site-packages/pyresparser/resume_parser.py?line=16'>17</a>\u001b[0m     skills_file\u001b[39m=\u001b[39m\u001b[39mNone\u001b[39;00m,\n\u001b[0;32m     <a href='file:///c%3A/Users/APinto/anaconda3/envs/projeto_apspacy/lib/site-packages/pyresparser/resume_parser.py?line=17'>18</a>\u001b[0m     custom_regex\u001b[39m=\u001b[39m\u001b[39mNone\u001b[39;00m\n\u001b[0;32m     <a href='file:///c%3A/Users/APinto/anaconda3/envs/projeto_apspacy/lib/site-packages/pyresparser/resume_parser.py?line=18'>19</a>\u001b[0m ):\n\u001b[0;32m     <a href='file:///c%3A/Users/APinto/anaconda3/envs/projeto_apspacy/lib/site-packages/pyresparser/resume_parser.py?line=19'>20</a>\u001b[0m     nlp \u001b[39m=\u001b[39m spacy\u001b[39m.\u001b[39mload(\u001b[39m'\u001b[39m\u001b[39men_core_web_sm\u001b[39m\u001b[39m'\u001b[39m)\n\u001b[1;32m---> <a href='file:///c%3A/Users/APinto/anaconda3/envs/projeto_apspacy/lib/site-packages/pyresparser/resume_parser.py?line=20'>21</a>\u001b[0m     custom_nlp \u001b[39m=\u001b[39m spacy\u001b[39m.\u001b[39;49mload(os\u001b[39m.\u001b[39;49mpath\u001b[39m.\u001b[39;49mdirname(os\u001b[39m.\u001b[39;49mpath\u001b[39m.\u001b[39;49mabspath(\u001b[39m__file__\u001b[39;49m)))\n\u001b[0;32m     <a href='file:///c%3A/Users/APinto/anaconda3/envs/projeto_apspacy/lib/site-packages/pyresparser/resume_parser.py?line=21'>22</a>\u001b[0m     \u001b[39mself\u001b[39m\u001b[39m.\u001b[39m__skills_file \u001b[39m=\u001b[39m skills_file\n\u001b[0;32m     <a href='file:///c%3A/Users/APinto/anaconda3/envs/projeto_apspacy/lib/site-packages/pyresparser/resume_parser.py?line=22'>23</a>\u001b[0m     \u001b[39mself\u001b[39m\u001b[39m.\u001b[39m__custom_regex \u001b[39m=\u001b[39m custom_regex\n",
      "File \u001b[1;32m~\\anaconda3\\envs\\projeto_apspacy\\lib\\site-packages\\spacy\\__init__.py:51\u001b[0m, in \u001b[0;36mload\u001b[1;34m(name, vocab, disable, exclude, config)\u001b[0m\n\u001b[0;32m     <a href='file:///c%3A/Users/APinto/anaconda3/envs/projeto_apspacy/lib/site-packages/spacy/__init__.py?line=29'>30</a>\u001b[0m \u001b[39mdef\u001b[39;00m \u001b[39mload\u001b[39m(\n\u001b[0;32m     <a href='file:///c%3A/Users/APinto/anaconda3/envs/projeto_apspacy/lib/site-packages/spacy/__init__.py?line=30'>31</a>\u001b[0m     name: Union[\u001b[39mstr\u001b[39m, Path],\n\u001b[0;32m     <a href='file:///c%3A/Users/APinto/anaconda3/envs/projeto_apspacy/lib/site-packages/spacy/__init__.py?line=31'>32</a>\u001b[0m     \u001b[39m*\u001b[39m,\n\u001b[1;32m   (...)\u001b[0m\n\u001b[0;32m     <a href='file:///c%3A/Users/APinto/anaconda3/envs/projeto_apspacy/lib/site-packages/spacy/__init__.py?line=35'>36</a>\u001b[0m     config: Union[Dict[\u001b[39mstr\u001b[39m, Any], Config] \u001b[39m=\u001b[39m util\u001b[39m.\u001b[39mSimpleFrozenDict(),\n\u001b[0;32m     <a href='file:///c%3A/Users/APinto/anaconda3/envs/projeto_apspacy/lib/site-packages/spacy/__init__.py?line=36'>37</a>\u001b[0m ) \u001b[39m-\u001b[39m\u001b[39m>\u001b[39m Language:\n\u001b[0;32m     <a href='file:///c%3A/Users/APinto/anaconda3/envs/projeto_apspacy/lib/site-packages/spacy/__init__.py?line=37'>38</a>\u001b[0m     \u001b[39m\"\"\"Load a spaCy model from an installed package or a local path.\u001b[39;00m\n\u001b[0;32m     <a href='file:///c%3A/Users/APinto/anaconda3/envs/projeto_apspacy/lib/site-packages/spacy/__init__.py?line=38'>39</a>\u001b[0m \n\u001b[0;32m     <a href='file:///c%3A/Users/APinto/anaconda3/envs/projeto_apspacy/lib/site-packages/spacy/__init__.py?line=39'>40</a>\u001b[0m \u001b[39m    name (str): Package name or model path.\u001b[39;00m\n\u001b[1;32m   (...)\u001b[0m\n\u001b[0;32m     <a href='file:///c%3A/Users/APinto/anaconda3/envs/projeto_apspacy/lib/site-packages/spacy/__init__.py?line=48'>49</a>\u001b[0m \u001b[39m    RETURNS (Language): The loaded nlp object.\u001b[39;00m\n\u001b[0;32m     <a href='file:///c%3A/Users/APinto/anaconda3/envs/projeto_apspacy/lib/site-packages/spacy/__init__.py?line=49'>50</a>\u001b[0m \u001b[39m    \"\"\"\u001b[39;00m\n\u001b[1;32m---> <a href='file:///c%3A/Users/APinto/anaconda3/envs/projeto_apspacy/lib/site-packages/spacy/__init__.py?line=50'>51</a>\u001b[0m     \u001b[39mreturn\u001b[39;00m util\u001b[39m.\u001b[39;49mload_model(\n\u001b[0;32m     <a href='file:///c%3A/Users/APinto/anaconda3/envs/projeto_apspacy/lib/site-packages/spacy/__init__.py?line=51'>52</a>\u001b[0m         name, vocab\u001b[39m=\u001b[39;49mvocab, disable\u001b[39m=\u001b[39;49mdisable, exclude\u001b[39m=\u001b[39;49mexclude, config\u001b[39m=\u001b[39;49mconfig\n\u001b[0;32m     <a href='file:///c%3A/Users/APinto/anaconda3/envs/projeto_apspacy/lib/site-packages/spacy/__init__.py?line=52'>53</a>\u001b[0m     )\n",
      "File \u001b[1;32m~\\anaconda3\\envs\\projeto_apspacy\\lib\\site-packages\\spacy\\util.py:422\u001b[0m, in \u001b[0;36mload_model\u001b[1;34m(name, vocab, disable, exclude, config)\u001b[0m\n\u001b[0;32m    <a href='file:///c%3A/Users/APinto/anaconda3/envs/projeto_apspacy/lib/site-packages/spacy/util.py?line=419'>420</a>\u001b[0m         \u001b[39mreturn\u001b[39;00m load_model_from_package(name, \u001b[39m*\u001b[39m\u001b[39m*\u001b[39mkwargs)  \u001b[39m# type: ignore[arg-type]\u001b[39;00m\n\u001b[0;32m    <a href='file:///c%3A/Users/APinto/anaconda3/envs/projeto_apspacy/lib/site-packages/spacy/util.py?line=420'>421</a>\u001b[0m     \u001b[39mif\u001b[39;00m Path(name)\u001b[39m.\u001b[39mexists():  \u001b[39m# path to model data directory\u001b[39;00m\n\u001b[1;32m--> <a href='file:///c%3A/Users/APinto/anaconda3/envs/projeto_apspacy/lib/site-packages/spacy/util.py?line=421'>422</a>\u001b[0m         \u001b[39mreturn\u001b[39;00m load_model_from_path(Path(name), \u001b[39m*\u001b[39;49m\u001b[39m*\u001b[39;49mkwargs)  \u001b[39m# type: ignore[arg-type]\u001b[39;00m\n\u001b[0;32m    <a href='file:///c%3A/Users/APinto/anaconda3/envs/projeto_apspacy/lib/site-packages/spacy/util.py?line=422'>423</a>\u001b[0m \u001b[39melif\u001b[39;00m \u001b[39mhasattr\u001b[39m(name, \u001b[39m\"\u001b[39m\u001b[39mexists\u001b[39m\u001b[39m\"\u001b[39m):  \u001b[39m# Path or Path-like to model data\u001b[39;00m\n\u001b[0;32m    <a href='file:///c%3A/Users/APinto/anaconda3/envs/projeto_apspacy/lib/site-packages/spacy/util.py?line=423'>424</a>\u001b[0m     \u001b[39mreturn\u001b[39;00m load_model_from_path(name, \u001b[39m*\u001b[39m\u001b[39m*\u001b[39mkwargs)  \u001b[39m# type: ignore[arg-type]\u001b[39;00m\n",
      "File \u001b[1;32m~\\anaconda3\\envs\\projeto_apspacy\\lib\\site-packages\\spacy\\util.py:487\u001b[0m, in \u001b[0;36mload_model_from_path\u001b[1;34m(model_path, meta, vocab, disable, exclude, config)\u001b[0m\n\u001b[0;32m    <a href='file:///c%3A/Users/APinto/anaconda3/envs/projeto_apspacy/lib/site-packages/spacy/util.py?line=484'>485</a>\u001b[0m config_path \u001b[39m=\u001b[39m model_path \u001b[39m/\u001b[39m \u001b[39m\"\u001b[39m\u001b[39mconfig.cfg\u001b[39m\u001b[39m\"\u001b[39m\n\u001b[0;32m    <a href='file:///c%3A/Users/APinto/anaconda3/envs/projeto_apspacy/lib/site-packages/spacy/util.py?line=485'>486</a>\u001b[0m overrides \u001b[39m=\u001b[39m dict_to_dot(config)\n\u001b[1;32m--> <a href='file:///c%3A/Users/APinto/anaconda3/envs/projeto_apspacy/lib/site-packages/spacy/util.py?line=486'>487</a>\u001b[0m config \u001b[39m=\u001b[39m load_config(config_path, overrides\u001b[39m=\u001b[39;49moverrides)\n\u001b[0;32m    <a href='file:///c%3A/Users/APinto/anaconda3/envs/projeto_apspacy/lib/site-packages/spacy/util.py?line=487'>488</a>\u001b[0m nlp \u001b[39m=\u001b[39m load_model_from_config(config, vocab\u001b[39m=\u001b[39mvocab, disable\u001b[39m=\u001b[39mdisable, exclude\u001b[39m=\u001b[39mexclude)\n\u001b[0;32m    <a href='file:///c%3A/Users/APinto/anaconda3/envs/projeto_apspacy/lib/site-packages/spacy/util.py?line=488'>489</a>\u001b[0m \u001b[39mreturn\u001b[39;00m nlp\u001b[39m.\u001b[39mfrom_disk(model_path, exclude\u001b[39m=\u001b[39mexclude, overrides\u001b[39m=\u001b[39moverrides)\n",
      "File \u001b[1;32m~\\anaconda3\\envs\\projeto_apspacy\\lib\\site-packages\\spacy\\util.py:646\u001b[0m, in \u001b[0;36mload_config\u001b[1;34m(path, overrides, interpolate)\u001b[0m\n\u001b[0;32m    <a href='file:///c%3A/Users/APinto/anaconda3/envs/projeto_apspacy/lib/site-packages/spacy/util.py?line=643'>644</a>\u001b[0m \u001b[39melse\u001b[39;00m:\n\u001b[0;32m    <a href='file:///c%3A/Users/APinto/anaconda3/envs/projeto_apspacy/lib/site-packages/spacy/util.py?line=644'>645</a>\u001b[0m     \u001b[39mif\u001b[39;00m \u001b[39mnot\u001b[39;00m config_path \u001b[39mor\u001b[39;00m \u001b[39mnot\u001b[39;00m config_path\u001b[39m.\u001b[39mexists() \u001b[39mor\u001b[39;00m \u001b[39mnot\u001b[39;00m config_path\u001b[39m.\u001b[39mis_file():\n\u001b[1;32m--> <a href='file:///c%3A/Users/APinto/anaconda3/envs/projeto_apspacy/lib/site-packages/spacy/util.py?line=645'>646</a>\u001b[0m         \u001b[39mraise\u001b[39;00m \u001b[39mIOError\u001b[39;00m(Errors\u001b[39m.\u001b[39mE053\u001b[39m.\u001b[39mformat(path\u001b[39m=\u001b[39mconfig_path, name\u001b[39m=\u001b[39m\u001b[39m\"\u001b[39m\u001b[39mconfig.cfg\u001b[39m\u001b[39m\"\u001b[39m))\n\u001b[0;32m    <a href='file:///c%3A/Users/APinto/anaconda3/envs/projeto_apspacy/lib/site-packages/spacy/util.py?line=646'>647</a>\u001b[0m     \u001b[39mreturn\u001b[39;00m config\u001b[39m.\u001b[39mfrom_disk(\n\u001b[0;32m    <a href='file:///c%3A/Users/APinto/anaconda3/envs/projeto_apspacy/lib/site-packages/spacy/util.py?line=647'>648</a>\u001b[0m         config_path, overrides\u001b[39m=\u001b[39moverrides, interpolate\u001b[39m=\u001b[39minterpolate\n\u001b[0;32m    <a href='file:///c%3A/Users/APinto/anaconda3/envs/projeto_apspacy/lib/site-packages/spacy/util.py?line=648'>649</a>\u001b[0m     )\n",
      "\u001b[1;31mOSError\u001b[0m: [E053] Could not read config.cfg from C:\\Users\\APinto\\anaconda3\\envs\\projeto_apspacy\\lib\\site-packages\\pyresparser\\config.cfg"
     ]
    }
   ],
   "source": [
    "from pyresparser import ResumeParser\n",
    "data = ResumeParser('C:\\\\Users\\\\APinto\\\\OneDrive\\\\Documentos\\\\pdfs cv\\\\Ana Rosa Almeida Pinto_EN.pdf').get_extracted_data()"
   ]
  },
  {
   "cell_type": "code",
   "execution_count": null,
   "metadata": {},
   "outputs": [],
   "source": []
  }
 ],
 "metadata": {
  "interpreter": {
   "hash": "8b2e535b00e7f7205d6b56467eabe1bc8988b6351e7d36e971c61f2ab06cdc51"
  },
  "kernelspec": {
   "display_name": "Python 3.10.3 64-bit",
   "language": "python",
   "name": "python3"
  },
  "language_info": {
   "codemirror_mode": {
    "name": "ipython",
    "version": 3
   },
   "file_extension": ".py",
   "mimetype": "text/x-python",
   "name": "python",
   "nbconvert_exporter": "python",
   "pygments_lexer": "ipython3",
   "version": "3.8.13"
  },
  "orig_nbformat": 4
 },
 "nbformat": 4,
 "nbformat_minor": 2
}
